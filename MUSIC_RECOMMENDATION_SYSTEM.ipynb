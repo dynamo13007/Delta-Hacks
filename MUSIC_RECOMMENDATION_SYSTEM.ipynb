{
  "nbformat": 4,
  "nbformat_minor": 0,
  "metadata": {
    "colab": {
      "provenance": [],
      "authorship_tag": "ABX9TyNm8gnzZ7xIeT2++oSnmf3j",
      "include_colab_link": true
    },
    "kernelspec": {
      "name": "python3",
      "display_name": "Python 3"
    },
    "language_info": {
      "name": "python"
    }
  },
  "cells": [
    {
      "cell_type": "markdown",
      "metadata": {
        "id": "view-in-github",
        "colab_type": "text"
      },
      "source": [
        "<a href=\"https://colab.research.google.com/github/dynamo13007/Delta-Hacks/blob/main/MUSIC_RECOMMENDATION_SYSTEM.ipynb\" target=\"_parent\"><img src=\"https://colab.research.google.com/assets/colab-badge.svg\" alt=\"Open In Colab\"/></a>"
      ]
    },
    {
      "cell_type": "markdown",
      "source": [
        "Collecting dataset of music tracks that includes features such as genre, artist, tempo, duration, and more. \n",
        "Using existing datasets Spotify API to collect this data."
      ],
      "metadata": {
        "id": "i6iSgAUWmgP1"
      }
    },
    {
      "cell_type": "code",
      "execution_count": null,
      "metadata": {
        "colab": {
          "base_uri": "https://localhost:8080/",
          "height": 383
        },
        "id": "YIDXxY5NmXbk",
        "outputId": "ad18d216-3fb1-41f7-b33d-9b573e9a133f"
      },
      "outputs": [
        {
          "output_type": "error",
          "ename": "ModuleNotFoundError",
          "evalue": "ignored",
          "traceback": [
            "\u001b[0;31m---------------------------------------------------------------------------\u001b[0m",
            "\u001b[0;31mModuleNotFoundError\u001b[0m                       Traceback (most recent call last)",
            "\u001b[0;32m<ipython-input-1-07ea104e7cd8>\u001b[0m in \u001b[0;36m<module>\u001b[0;34m\u001b[0m\n\u001b[0;32m----> 1\u001b[0;31m \u001b[0;32mimport\u001b[0m \u001b[0mspotipy\u001b[0m\u001b[0;34m\u001b[0m\u001b[0;34m\u001b[0m\u001b[0m\n\u001b[0m\u001b[1;32m      2\u001b[0m \u001b[0;32mfrom\u001b[0m \u001b[0mspotipy\u001b[0m\u001b[0;34m.\u001b[0m\u001b[0moauth2\u001b[0m \u001b[0;32mimport\u001b[0m \u001b[0mSpotifyClientCredentials\u001b[0m\u001b[0;34m\u001b[0m\u001b[0;34m\u001b[0m\u001b[0m\n\u001b[1;32m      3\u001b[0m \u001b[0;32mimport\u001b[0m \u001b[0mpandas\u001b[0m \u001b[0;32mas\u001b[0m \u001b[0mpd\u001b[0m\u001b[0;34m\u001b[0m\u001b[0;34m\u001b[0m\u001b[0m\n\u001b[1;32m      4\u001b[0m \u001b[0;34m\u001b[0m\u001b[0m\n\u001b[1;32m      5\u001b[0m \u001b[0;31m# Set up Spotify API credentials\u001b[0m\u001b[0;34m\u001b[0m\u001b[0;34m\u001b[0m\u001b[0m\n",
            "\u001b[0;31mModuleNotFoundError\u001b[0m: No module named 'spotipy'",
            "",
            "\u001b[0;31m---------------------------------------------------------------------------\u001b[0;32m\nNOTE: If your import is failing due to a missing package, you can\nmanually install dependencies using either !pip or !apt.\n\nTo view examples of installing some common dependencies, click the\n\"Open Examples\" button below.\n\u001b[0;31m---------------------------------------------------------------------------\u001b[0m\n"
          ],
          "errorDetails": {
            "actions": [
              {
                "action": "open_url",
                "actionText": "Open Examples",
                "url": "/notebooks/snippets/importing_libraries.ipynb"
              }
            ]
          }
        }
      ],
      "source": [
        "import spotipy\n",
        "from spotipy.oauth2 import SpotifyClientCredentials\n",
        "import pandas as pd\n",
        "\n",
        "# Set up Spotify API credentials\n",
        "client_id = 'your_client_id_here'\n",
        "client_secret = 'your_client_secret_here'\n",
        "client_credentials_manager = SpotifyClientCredentials(client_id, client_secret)\n",
        "sp = spotipy.Spotify(client_credentials_manager=client_credentials_manager)\n",
        "\n",
        "# Search for tracks and get their audio features\n",
        "tracks = sp.search(q='genre:\"pop\"', type='track', limit=10000)\n",
        "track_ids = [track['id'] for track in tracks['tracks']['items']]\n",
        "features = sp.audio_features(track_ids)\n",
        "\n",
        "# Create a dataframe of the audio features\n",
        "df = pd.DataFrame(features)\n",
        "df = df.drop(columns=['type', 'id', 'uri', 'track_href', 'analysis_url'])\n"
      ]
    },
    {
      "cell_type": "markdown",
      "source": [
        "Pre-processing the data to clean it and prepare it for analysis"
      ],
      "metadata": {
        "id": "w2rdqiUep1Fl"
      }
    },
    {
      "cell_type": "code",
      "source": [
        "#removing duplicates\n",
        "df = df.drop_duplicates()\n",
        "\n",
        "#dropping rows with missing values\n",
        "df = df.dropna()\n",
        "\n",
        "#filling missing values with a specific value (e.g., 0)\n",
        "df = df.fillna(0)"
      ],
      "metadata": {
        "id": "Hxuu2gVHp7H8"
      },
      "execution_count": null,
      "outputs": []
    },
    {
      "cell_type": "code",
      "source": [
        "# Normalizing Data\n",
        "from sklearn.preprocessing import MinMaxScaler\n",
        "\n",
        "# Select the columns to normalize\n",
        "cols_to_normalize = ['danceability', 'energy', 'loudness', 'speechiness', 'acousticness', 'instrumentalness', 'liveness', 'valence', 'tempo']\n",
        "\n",
        "# Create a MinMaxScaler object\n",
        "scaler = MinMaxScaler()\n",
        "\n",
        "# Apply the scaler to the selected columns\n",
        "df[cols_to_normalize] = scaler.fit_transform(df[cols_to_normalize])"
      ],
      "metadata": {
        "id": "4ZzrAMFvqU4C"
      },
      "execution_count": null,
      "outputs": []
    },
    {
      "cell_type": "code",
      "source": [
        "# Performing dimensionality reduction \n",
        "from sklearn.decomposition import PCA\n",
        "\n",
        "# Select the relevant features for analysis\n",
        "selected_features = ['danceability', 'energy', 'loudness', 'speechiness', 'acousticness', 'instrumentalness', 'liveness', 'valence', 'tempo']\n",
        "\n",
        "# Create a new dataframe with only the selected features\n",
        "df_selected = df[selected_features]\n",
        "\n",
        "# Apply PCA to the selected features\n",
        "pca = PCA(n_components=3)\n",
        "pca.fit(df_selected)\n",
        "df_pca = pd.DataFrame(pca.transform(df_selected), columns=['PCA1', 'PCA2', 'PCA3'])"
      ],
      "metadata": {
        "id": "V0iQIKKIqdZn"
      },
      "execution_count": null,
      "outputs": []
    },
    {
      "cell_type": "code",
      "source": [
        "# Using K-means clustering to group music tracks\n",
        "from sklearn.cluster import KMeans\n",
        "\n",
        "# Specify the number of clusters\n",
        "n_clusters = 5\n",
        "\n",
        "# Fit the K-means model to the PCA-transformed data\n",
        "kmeans = KMeans(n_clusters=n_clusters, random_state=42).fit(df_pca)\n",
        "\n",
        "# Add the cluster labels to the original dataframe\n",
        "df['cluster'] = kmeans.labels_\n",
        "\n",
        "# Print the size of each cluster\n",
        "print(df['cluster'].value_counts())"
      ],
      "metadata": {
        "id": "e11rRnyEqsif"
      },
      "execution_count": null,
      "outputs": []
    },
    {
      "cell_type": "code",
      "source": [
        "# Using silhouette score and elbow method to evaluate the performance of your music recommendation system\n",
        "import matplotlib.pyplot as plt\n",
        "from sklearn.metrics import silhouette_score\n",
        "\n",
        "# Calculate the silhouette score\n",
        "silhouette_avg = silhouette_score(df_pca, kmeans.labels_)\n",
        "print(f'Silhouette score: {silhouette_avg}')\n",
        "\n",
        "# Use the elbow method to determine the optimal number of clusters\n",
        "sse = []\n",
        "for k in range(1, 10):\n",
        "    kmeans = KMeans(n_clusters=k, random_state=42)\n",
        "    kmeans.fit(df_pca)\n",
        "    sse.append(kmeans.inertia_)\n",
        "\n",
        "plt.plot(range(1, 10), sse)\n",
        "plt.title('Elbow Method')\n",
        "plt.xlabel('Number of Clusters')\n",
        "plt.ylabel('SSE')\n",
        "plt.show()"
      ],
      "metadata": {
        "id": "s_2SzTQ1q6CH"
      },
      "execution_count": null,
      "outputs": []
    },
    {
      "cell_type": "code",
      "source": [
        "#\n",
        "from sklearn.metrics import precision_score, recall_score, f1_score\n",
        "\n",
        "# Generate ground truth labels\n",
        "ground_truth = [0, 1, 2, 0, 1, 2, 0, 1, 2, 0, 1, 2]\n",
        "'''\n",
        "we can automate it using pandas : \n",
        "data = pd.read_csv('labeled_data.csv')\n",
        "\n",
        "# Get ground truth labels\n",
        "ground_truth = data['label'].tolist()\n",
        "\n",
        "print(ground_truth)\n",
        "'''\n",
        "\n",
        "# Get predicted labels from clustering algorithm\n",
        "predicted_labels = kmeans.labels_\n",
        "\n",
        "# Calculate precision, recall, and F1-score\n",
        "precision = precision_score(ground_truth, predicted_labels, average='macro')\n",
        "recall = recall_score(ground_truth, predicted_labels, average='macro')\n",
        "f1 = f1_score(ground_truth, predicted_labels, average='macro')\n",
        "\n",
        "print(f'Precision: {precision:.2f}')\n",
        "print(f'Recall: {recall:.2f}')\n",
        "print(f'F1-score: {f1:.2f}')\n"
      ],
      "metadata": {
        "id": "2H08f4_ArMk5"
      },
      "execution_count": null,
      "outputs": []
    }
  ]
}